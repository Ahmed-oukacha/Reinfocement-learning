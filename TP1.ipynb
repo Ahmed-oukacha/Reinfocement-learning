{
 "cells": [
  {
   "cell_type": "markdown",
   "id": "7292fbe3-c596-4bce-bdea-a94dd2085a15",
   "metadata": {},
   "source": [
    "# Exercice 1 : Découverte et Exploration d’un Environnement Gym\n"
   ]
  },
  {
   "cell_type": "code",
   "execution_count": null,
   "id": "0ea7ee71-66ca-4155-b91a-480c2a13f5a3",
   "metadata": {},
   "outputs": [],
   "source": [
    "import gymnasium as gym\n",
    "\n",
    "# Création de l’environnement\n",
    "env = gym.make(\"CartPole-v1\", render_mode=\"human\")\n",
    "\n",
    "# Affichage des espaces d'actions et d'observations\n",
    "print(f\"Espace d'actions : {env.action_space}\")\n",
    "print(f\"Espace d'observations : {env.observation_space}\")\n",
    "\n",
    "# Exécution de 100 itérations avec des actions aléatoires\n",
    "env.reset()\n",
    "for _ in range(100):\n",
    "    action = env.action_space.sample()  # Choix d'une action aléatoire\n",
    "    observation, reward, done, _, _ = env.step(action)\n",
    "    print(f\"Action : {action}, Observation : {observation}, Récompense : {reward}\")\n",
    "    if done:\n",
    "        env.reset()\n",
    "\n",
    "env.close()\n"
   ]
  },
  {
   "cell_type": "markdown",
   "id": "c8737f32-3be1-4713-97e1-a96402c639ff",
   "metadata": {},
   "source": [
    "# Exercice 2 : Manipulation des Observations et Récompenses"
   ]
  },
  {
   "cell_type": "code",
   "execution_count": null,
   "id": "1ebcbc42-8fc4-4b9e-944c-96cad601930c",
   "metadata": {},
   "outputs": [],
   "source": [
    "env = gym.make(\"CartPole-v1\", render_mode=\"human\")\n",
    "observation, _ = env.reset()\n",
    "\n",
    "for _ in range(10):  # Faire 10 essais\n",
    "    action = env.action_space.sample()\n",
    "    observation, reward, done, _, _ = env.step(action)\n",
    "    print(f\"Observation : {observation}, Récompense : {reward}, Épisode terminé : {done}\")\n",
    "    if done:\n",
    "        env.reset()\n",
    "\n",
    "env.close()\n"
   ]
  },
  {
   "cell_type": "markdown",
   "id": "08bda08e-41ef-4193-a7cc-e6b2ff674402",
   "metadata": {},
   "source": [
    "# Exercice 3 : Contrôle Manuel de l’Agent\n"
   ]
  },
  {
   "cell_type": "code",
   "execution_count": null,
   "id": "11da5a31-ccbc-4807-8d29-6f0f0d5eb2e0",
   "metadata": {},
   "outputs": [],
   "source": [
    "env = gym.make(\"CartPole-v1\", render_mode=\"human\")\n",
    "observation, _ = env.reset()\n",
    "done = False\n",
    "steps = 0\n",
    "\n",
    "while not done:\n",
    "    action = int(input(\"Entrez une action (0 ou 1) : \"))  # Saisie utilisateur\n",
    "    if action not in [0, 1]:  \n",
    "        print(\"Action invalide. Veuillez entrer 0 ou 1.\")\n",
    "        continue\n",
    "    \n",
    "    observation, reward, done, _, _ = env.step(action)\n",
    "    print(f\"Action : {action}, Observation : {observation}, Récompense : {reward}\")\n",
    "    steps += 1\n",
    "\n",
    "print(f\"Épisode terminé après {steps} étapes.\")\n",
    "env.close()\n"
   ]
  },
  {
   "cell_type": "markdown",
   "id": "db5fc79b-efc4-4668-87fd-ca9169f8649e",
   "metadata": {},
   "source": [
    "# Exercice 4 : Évaluation des Performances d’une Politique Aléatoire\n"
   ]
  },
  {
   "cell_type": "code",
   "execution_count": null,
   "id": "3d27147d-d316-4d96-a11d-25f2f2f4b518",
   "metadata": {},
   "outputs": [],
   "source": [
    "import numpy as np\n",
    "\n",
    "env = gym.make(\"CartPole-v1\", render_mode=\"human\")\n",
    "num_episodes = 10\n",
    "episode_durations = []\n",
    "\n",
    "for episode in range(num_episodes):\n",
    "    observation, _ = env.reset()\n",
    "    done = False\n",
    "    steps = 0\n",
    "\n",
    "    while not done:\n",
    "        action = env.action_space.sample()\n",
    "        observation, reward, done, _, _ = env.step(action)\n",
    "        steps += 1\n",
    "\n",
    "    episode_durations.append(steps)\n",
    "    print(f\"Épisode {episode + 1} terminé en {steps} étapes.\")\n",
    "\n",
    "# Calcul de la durée moyenne des épisodes\n",
    "mean_duration = np.mean(episode_durations)\n",
    "print(f\"Durée moyenne des épisodes : {mean_duration} étapes.\")\n",
    "\n",
    "env.close()\n"
   ]
  },
  {
   "cell_type": "code",
   "execution_count": null,
   "id": "0cf17895-74a7-46ae-8004-6d823dfdf85f",
   "metadata": {},
   "outputs": [],
   "source": []
  },
  {
   "cell_type": "code",
   "execution_count": null,
   "id": "f7f36a48-0cd8-47a3-addd-6ee50d8f858c",
   "metadata": {},
   "outputs": [],
   "source": []
  }
 ],
 "metadata": {
  "kernelspec": {
   "display_name": "Python 3 (ipykernel)",
   "language": "python",
   "name": "python3"
  },
  "language_info": {
   "codemirror_mode": {
    "name": "ipython",
    "version": 3
   },
   "file_extension": ".py",
   "mimetype": "text/x-python",
   "name": "python",
   "nbconvert_exporter": "python",
   "pygments_lexer": "ipython3",
   "version": "3.12.7"
  }
 },
 "nbformat": 4,
 "nbformat_minor": 5
}
